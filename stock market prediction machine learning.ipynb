{
 "cells": [
  {
   "cell_type": "code",
   "execution_count": 5,
   "id": "a3810003",
   "metadata": {},
   "outputs": [],
   "source": [
    "import math\n",
    "import pandas_datareader as web\n",
    "import numpy as np\n",
    "import pandas as pd\n",
    "from sklearn.preprocessing import MinMaxScaler\n",
    "from keras.models import Sequential\n",
    "from keras.layers import Dense,LSTM\n",
    "import matplotlib.pyplot as plt\n",
    "plt.style.use('fivethirtyeight')"
   ]
  },
  {
   "cell_type": "code",
   "execution_count": 2,
   "id": "3fdbcceb",
   "metadata": {},
   "outputs": [
    {
     "name": "stdout",
     "output_type": "stream",
     "text": [
      "Collecting pandas_datareader\n",
      "  Downloading pandas_datareader-0.10.0-py3-none-any.whl (109 kB)\n",
      "Requirement already satisfied: lxml in d:\\anaconda\\lib\\site-packages (from pandas_datareader) (4.6.3)\n",
      "Requirement already satisfied: pandas>=0.23 in d:\\anaconda\\lib\\site-packages (from pandas_datareader) (1.3.4)\n",
      "Requirement already satisfied: requests>=2.19.0 in d:\\anaconda\\lib\\site-packages (from pandas_datareader) (2.26.0)\n",
      "Requirement already satisfied: numpy>=1.17.3 in d:\\anaconda\\lib\\site-packages (from pandas>=0.23->pandas_datareader) (1.20.3)\n",
      "Requirement already satisfied: python-dateutil>=2.7.3 in d:\\anaconda\\lib\\site-packages (from pandas>=0.23->pandas_datareader) (2.8.2)\n",
      "Requirement already satisfied: pytz>=2017.3 in d:\\anaconda\\lib\\site-packages (from pandas>=0.23->pandas_datareader) (2021.3)\n",
      "Requirement already satisfied: six>=1.5 in d:\\anaconda\\lib\\site-packages (from python-dateutil>=2.7.3->pandas>=0.23->pandas_datareader) (1.16.0)\n",
      "Requirement already satisfied: certifi>=2017.4.17 in d:\\anaconda\\lib\\site-packages (from requests>=2.19.0->pandas_datareader) (2021.10.8)\n",
      "Requirement already satisfied: idna<4,>=2.5 in d:\\anaconda\\lib\\site-packages (from requests>=2.19.0->pandas_datareader) (3.2)\n",
      "Requirement already satisfied: charset-normalizer~=2.0.0 in d:\\anaconda\\lib\\site-packages (from requests>=2.19.0->pandas_datareader) (2.0.4)\n",
      "Requirement already satisfied: urllib3<1.27,>=1.21.1 in d:\\anaconda\\lib\\site-packages (from requests>=2.19.0->pandas_datareader) (1.26.7)\n",
      "Installing collected packages: pandas-datareader\n",
      "Successfully installed pandas-datareader-0.10.0\n"
     ]
    }
   ],
   "source": [
    "!pip install pandas_datareader"
   ]
  },
  {
   "cell_type": "code",
   "execution_count": 16,
   "id": "140fc339",
   "metadata": {},
   "outputs": [
    {
     "data": {
      "text/html": [
       "<div>\n",
       "<style scoped>\n",
       "    .dataframe tbody tr th:only-of-type {\n",
       "        vertical-align: middle;\n",
       "    }\n",
       "\n",
       "    .dataframe tbody tr th {\n",
       "        vertical-align: top;\n",
       "    }\n",
       "\n",
       "    .dataframe thead th {\n",
       "        text-align: right;\n",
       "    }\n",
       "</style>\n",
       "<table border=\"1\" class=\"dataframe\">\n",
       "  <thead>\n",
       "    <tr style=\"text-align: right;\">\n",
       "      <th></th>\n",
       "      <th>High</th>\n",
       "      <th>Low</th>\n",
       "      <th>Open</th>\n",
       "      <th>Close</th>\n",
       "      <th>Volume</th>\n",
       "      <th>Adj Close</th>\n",
       "    </tr>\n",
       "    <tr>\n",
       "      <th>Date</th>\n",
       "      <th></th>\n",
       "      <th></th>\n",
       "      <th></th>\n",
       "      <th></th>\n",
       "      <th></th>\n",
       "      <th></th>\n",
       "    </tr>\n",
       "  </thead>\n",
       "  <tbody>\n",
       "    <tr>\n",
       "      <th>2013-01-02</th>\n",
       "      <td>19.821428</td>\n",
       "      <td>19.343929</td>\n",
       "      <td>19.779285</td>\n",
       "      <td>19.608213</td>\n",
       "      <td>560518000.0</td>\n",
       "      <td>16.890797</td>\n",
       "    </tr>\n",
       "    <tr>\n",
       "      <th>2013-01-03</th>\n",
       "      <td>19.631071</td>\n",
       "      <td>19.321428</td>\n",
       "      <td>19.567142</td>\n",
       "      <td>19.360714</td>\n",
       "      <td>352965200.0</td>\n",
       "      <td>16.677597</td>\n",
       "    </tr>\n",
       "    <tr>\n",
       "      <th>2013-01-04</th>\n",
       "      <td>19.236786</td>\n",
       "      <td>18.779642</td>\n",
       "      <td>19.177500</td>\n",
       "      <td>18.821428</td>\n",
       "      <td>594333600.0</td>\n",
       "      <td>16.213051</td>\n",
       "    </tr>\n",
       "    <tr>\n",
       "      <th>2013-01-07</th>\n",
       "      <td>18.903570</td>\n",
       "      <td>18.400000</td>\n",
       "      <td>18.642857</td>\n",
       "      <td>18.710714</td>\n",
       "      <td>484156400.0</td>\n",
       "      <td>16.117678</td>\n",
       "    </tr>\n",
       "    <tr>\n",
       "      <th>2013-01-08</th>\n",
       "      <td>18.996071</td>\n",
       "      <td>18.616072</td>\n",
       "      <td>18.900356</td>\n",
       "      <td>18.761070</td>\n",
       "      <td>458707200.0</td>\n",
       "      <td>16.161057</td>\n",
       "    </tr>\n",
       "    <tr>\n",
       "      <th>...</th>\n",
       "      <td>...</td>\n",
       "      <td>...</td>\n",
       "      <td>...</td>\n",
       "      <td>...</td>\n",
       "      <td>...</td>\n",
       "      <td>...</td>\n",
       "    </tr>\n",
       "    <tr>\n",
       "      <th>2022-09-12</th>\n",
       "      <td>164.259995</td>\n",
       "      <td>159.300003</td>\n",
       "      <td>159.589996</td>\n",
       "      <td>163.429993</td>\n",
       "      <td>104956000.0</td>\n",
       "      <td>163.429993</td>\n",
       "    </tr>\n",
       "    <tr>\n",
       "      <th>2022-09-13</th>\n",
       "      <td>160.539993</td>\n",
       "      <td>153.369995</td>\n",
       "      <td>159.899994</td>\n",
       "      <td>153.839996</td>\n",
       "      <td>122656600.0</td>\n",
       "      <td>153.839996</td>\n",
       "    </tr>\n",
       "    <tr>\n",
       "      <th>2022-09-14</th>\n",
       "      <td>157.100006</td>\n",
       "      <td>153.610001</td>\n",
       "      <td>154.789993</td>\n",
       "      <td>155.309998</td>\n",
       "      <td>87965400.0</td>\n",
       "      <td>155.309998</td>\n",
       "    </tr>\n",
       "    <tr>\n",
       "      <th>2022-09-15</th>\n",
       "      <td>155.240005</td>\n",
       "      <td>151.380005</td>\n",
       "      <td>154.649994</td>\n",
       "      <td>152.369995</td>\n",
       "      <td>90481100.0</td>\n",
       "      <td>152.369995</td>\n",
       "    </tr>\n",
       "    <tr>\n",
       "      <th>2022-09-16</th>\n",
       "      <td>151.350006</td>\n",
       "      <td>148.369995</td>\n",
       "      <td>151.210007</td>\n",
       "      <td>150.699997</td>\n",
       "      <td>162157000.0</td>\n",
       "      <td>150.699997</td>\n",
       "    </tr>\n",
       "  </tbody>\n",
       "</table>\n",
       "<p>2445 rows × 6 columns</p>\n",
       "</div>"
      ],
      "text/plain": [
       "                  High         Low        Open       Close       Volume  \\\n",
       "Date                                                                      \n",
       "2013-01-02   19.821428   19.343929   19.779285   19.608213  560518000.0   \n",
       "2013-01-03   19.631071   19.321428   19.567142   19.360714  352965200.0   \n",
       "2013-01-04   19.236786   18.779642   19.177500   18.821428  594333600.0   \n",
       "2013-01-07   18.903570   18.400000   18.642857   18.710714  484156400.0   \n",
       "2013-01-08   18.996071   18.616072   18.900356   18.761070  458707200.0   \n",
       "...                ...         ...         ...         ...          ...   \n",
       "2022-09-12  164.259995  159.300003  159.589996  163.429993  104956000.0   \n",
       "2022-09-13  160.539993  153.369995  159.899994  153.839996  122656600.0   \n",
       "2022-09-14  157.100006  153.610001  154.789993  155.309998   87965400.0   \n",
       "2022-09-15  155.240005  151.380005  154.649994  152.369995   90481100.0   \n",
       "2022-09-16  151.350006  148.369995  151.210007  150.699997  162157000.0   \n",
       "\n",
       "             Adj Close  \n",
       "Date                    \n",
       "2013-01-02   16.890797  \n",
       "2013-01-03   16.677597  \n",
       "2013-01-04   16.213051  \n",
       "2013-01-07   16.117678  \n",
       "2013-01-08   16.161057  \n",
       "...                ...  \n",
       "2022-09-12  163.429993  \n",
       "2022-09-13  153.839996  \n",
       "2022-09-14  155.309998  \n",
       "2022-09-15  152.369995  \n",
       "2022-09-16  150.699997  \n",
       "\n",
       "[2445 rows x 6 columns]"
      ]
     },
     "execution_count": 16,
     "metadata": {},
     "output_type": "execute_result"
    }
   ],
   "source": [
    "#Get the stock quoate\n",
    "df = web.DataReader('AAPL', data_source ='yahoo', start = '2013-01-01', end ='2022-09-17')\n",
    "#Show the data\n",
    "df"
   ]
  },
  {
   "cell_type": "code",
   "execution_count": 14,
   "id": "badefbca",
   "metadata": {},
   "outputs": [
    {
     "data": {
      "text/plain": [
       "(2695, 6)"
      ]
     },
     "execution_count": 14,
     "metadata": {},
     "output_type": "execute_result"
    }
   ],
   "source": [
    "#Understanding data\n",
    "df.shape"
   ]
  },
  {
   "cell_type": "code",
   "execution_count": 17,
   "id": "08f46676",
   "metadata": {},
   "outputs": [
    {
     "data": {
      "image/png": "[encoded data removed]",
      "text/plain": [
       "<Figure size 1152x576 with 1 Axes>"
      ]
     },
     "metadata": {},
     "output_type": "display_data"
    }
   ],
   "source": [
    "#Visulazing the data\n",
    "plt.figure(figsize=(16,8))\n",
    "plt.title('Close Price History')\n",
    "plt.plot(df['Close'])\n",
    "plt.xlabel('Date',fontsize=18)\n",
    "plt.ylabel('Close Price USD ($)', fontsize = 18)\n",
    "plt.show()"
   ]
  },
  {
   "cell_type": "code",
   "execution_count": 20,
   "id": "b1e96235",
   "metadata": {},
   "outputs": [
    {
     "data": {
      "text/plain": [
       "1956"
      ]
     },
     "execution_count": 20,
     "metadata": {},
     "output_type": "execute_result"
    }
   ],
   "source": [
    "#Create a new Data frame 'Close Column'\n",
    "data = df.filter(['Close'])\n",
    "#Convert the dataframe to a numpy array\n",
    "dataset = data.values\n",
    "#Get the number of rows to train the model on\n",
    "training_data_len = math.ceil(len(dataset)*.8)\n",
    "\n",
    "training_data_len \n"
   ]
  },
  {
   "cell_type": "code",
   "execution_count": 23,
   "id": "e152e4ce",
   "metadata": {},
   "outputs": [
    {
     "data": {
      "text/plain": [
       "array([[0.03368219],\n",
       "       [0.03220953],\n",
       "       [0.02900069],\n",
       "       ...,\n",
       "       [0.84113054],\n",
       "       [0.82363704],\n",
       "       [0.81370027]])"
      ]
     },
     "execution_count": 23,
     "metadata": {},
     "output_type": "execute_result"
    }
   ],
   "source": [
    "#Scale the data(Normalizing the data helps the model)\n",
    "scaler = MinMaxScaler(feature_range=(0,1))\n",
    "scaled_data = scaler.fit_transform(dataset)\n",
    "\n",
    "scaled_data "
   ]
  },
  {
   "cell_type": "code",
   "execution_count": 25,
   "id": "eedce66d",
   "metadata": {},
   "outputs": [
    {
     "name": "stdout",
     "output_type": "stream",
     "text": [
      "[array([0.03368219, 0.03220953, 0.02900069, 0.02834192, 0.02864155,\n",
      "       0.02689688, 0.02825905, 0.02757691, 0.02363492, 0.02027095,\n",
      "       0.02455719, 0.02383254, 0.02326303, 0.02427668, 0.02624024,\n",
      "       0.01274399, 0.01048717, 0.0126016 , 0.01439515, 0.01408915,\n",
      "       0.01380439, 0.013407  , 0.01100568, 0.01430378, 0.01419965,\n",
      "       0.01650959, 0.01794613, 0.01899803, 0.01644159, 0.01625246,\n",
      "       0.01616321, 0.01479679, 0.01476066, 0.01239335, 0.01180045,\n",
      "       0.01280986, 0.01110769, 0.01241885, 0.01148382, 0.01081018,\n",
      "       0.00848749, 0.00627318, 0.00862986, 0.00746533, 0.00851086,\n",
      "       0.00875312, 0.01006003, 0.00805397, 0.00803697, 0.00891888,\n",
      "       0.01129044, 0.01385327, 0.01359189, 0.01307974, 0.01321787,\n",
      "       0.01516868, 0.01552356, 0.01500505, 0.01307974, 0.01107794])]\n",
      "[array([0.03368219, 0.03220953, 0.02900069, 0.02834192, 0.02864155,\n",
      "       0.02689688, 0.02825905, 0.02757691, 0.02363492, 0.02027095,\n",
      "       0.02455719, 0.02383254, 0.02326303, 0.02427668, 0.02624024,\n",
      "       0.01274399, 0.01048717, 0.0126016 , 0.01439515, 0.01408915,\n",
      "       0.01380439, 0.013407  , 0.01100568, 0.01430378, 0.01419965,\n",
      "       0.01650959, 0.01794613, 0.01899803, 0.01644159, 0.01625246,\n",
      "       0.01616321, 0.01479679, 0.01476066, 0.01239335, 0.01180045,\n",
      "       0.01280986, 0.01110769, 0.01241885, 0.01148382, 0.01081018,\n",
      "       0.00848749, 0.00627318, 0.00862986, 0.00746533, 0.00851086,\n",
      "       0.00875312, 0.01006003, 0.00805397, 0.00803697, 0.00891888,\n",
      "       0.01129044, 0.01385327, 0.01359189, 0.01307974, 0.01321787,\n",
      "       0.01516868, 0.01552356, 0.01500505, 0.01307974, 0.01107794])]\n",
      "\n"
     ]
    }
   ],
   "source": [
    "#Create the training dataset \n",
    "#create the scaled data set\n",
    "train_data = scaled_data[0:training_data_len , :]\n",
    "#Split the data into x_train and y_train data sets\n",
    "x_train = []\n",
    "y_train = []\n",
    "\n",
    "for i in range(60, len(train_data)):\n",
    "    x_train.append(train_data[i-60:i,0])\n",
    "    y_train.append(train_data[i,0])\n",
    "    if i<=60:\n",
    "        print(x_train)\n",
    "        print(x_train)\n",
    "        print()\n",
    "        "
   ]
  },
  {
   "cell_type": "code",
   "execution_count": 26,
   "id": "0ce2da85",
   "metadata": {},
   "outputs": [
    {
     "name": "stdout",
     "output_type": "stream",
     "text": [
      "[array([0.03368219, 0.03220953, 0.02900069, 0.02834192, 0.02864155,\n",
      "       0.02689688, 0.02825905, 0.02757691, 0.02363492, 0.02027095,\n",
      "       0.02455719, 0.02383254, 0.02326303, 0.02427668, 0.02624024,\n",
      "       0.01274399, 0.01048717, 0.0126016 , 0.01439515, 0.01408915,\n",
      "       0.01380439, 0.013407  , 0.01100568, 0.01430378, 0.01419965,\n",
      "       0.01650959, 0.01794613, 0.01899803, 0.01644159, 0.01625246,\n",
      "       0.01616321, 0.01479679, 0.01476066, 0.01239335, 0.01180045,\n",
      "       0.01280986, 0.01110769, 0.01241885, 0.01148382, 0.01081018,\n",
      "       0.00848749, 0.00627318, 0.00862986, 0.00746533, 0.00851086,\n",
      "       0.00875312, 0.01006003, 0.00805397, 0.00803697, 0.00891888,\n",
      "       0.01129044, 0.01385327, 0.01359189, 0.01307974, 0.01321787,\n",
      "       0.01516868, 0.01552356, 0.01500505, 0.01307974, 0.01107794])]\n",
      "[array([0.03368219, 0.03220953, 0.02900069, 0.02834192, 0.02864155,\n",
      "       0.02689688, 0.02825905, 0.02757691, 0.02363492, 0.02027095,\n",
      "       0.02455719, 0.02383254, 0.02326303, 0.02427668, 0.02624024,\n",
      "       0.01274399, 0.01048717, 0.0126016 , 0.01439515, 0.01408915,\n",
      "       0.01380439, 0.013407  , 0.01100568, 0.01430378, 0.01419965,\n",
      "       0.01650959, 0.01794613, 0.01899803, 0.01644159, 0.01625246,\n",
      "       0.01616321, 0.01479679, 0.01476066, 0.01239335, 0.01180045,\n",
      "       0.01280986, 0.01110769, 0.01241885, 0.01148382, 0.01081018,\n",
      "       0.00848749, 0.00627318, 0.00862986, 0.00746533, 0.00851086,\n",
      "       0.00875312, 0.01006003, 0.00805397, 0.00803697, 0.00891888,\n",
      "       0.01129044, 0.01385327, 0.01359189, 0.01307974, 0.01321787,\n",
      "       0.01516868, 0.01552356, 0.01500505, 0.01307974, 0.01107794])]\n",
      "\n",
      "[array([0.03368219, 0.03220953, 0.02900069, 0.02834192, 0.02864155,\n",
      "       0.02689688, 0.02825905, 0.02757691, 0.02363492, 0.02027095,\n",
      "       0.02455719, 0.02383254, 0.02326303, 0.02427668, 0.02624024,\n",
      "       0.01274399, 0.01048717, 0.0126016 , 0.01439515, 0.01408915,\n",
      "       0.01380439, 0.013407  , 0.01100568, 0.01430378, 0.01419965,\n",
      "       0.01650959, 0.01794613, 0.01899803, 0.01644159, 0.01625246,\n",
      "       0.01616321, 0.01479679, 0.01476066, 0.01239335, 0.01180045,\n",
      "       0.01280986, 0.01110769, 0.01241885, 0.01148382, 0.01081018,\n",
      "       0.00848749, 0.00627318, 0.00862986, 0.00746533, 0.00851086,\n",
      "       0.00875312, 0.01006003, 0.00805397, 0.00803697, 0.00891888,\n",
      "       0.01129044, 0.01385327, 0.01359189, 0.01307974, 0.01321787,\n",
      "       0.01516868, 0.01552356, 0.01500505, 0.01307974, 0.01107794]), array([0.03220953, 0.02900069, 0.02834192, 0.02864155, 0.02689688,\n",
      "       0.02825905, 0.02757691, 0.02363492, 0.02027095, 0.02455719,\n",
      "       0.02383254, 0.02326303, 0.02427668, 0.02624024, 0.01274399,\n",
      "       0.01048717, 0.0126016 , 0.01439515, 0.01408915, 0.01380439,\n",
      "       0.013407  , 0.01100568, 0.01430378, 0.01419965, 0.01650959,\n",
      "       0.01794613, 0.01899803, 0.01644159, 0.01625246, 0.01616321,\n",
      "       0.01479679, 0.01476066, 0.01239335, 0.01180045, 0.01280986,\n",
      "       0.01110769, 0.01241885, 0.01148382, 0.01081018, 0.00848749,\n",
      "       0.00627318, 0.00862986, 0.00746533, 0.00851086, 0.00875312,\n",
      "       0.01006003, 0.00805397, 0.00803697, 0.00891888, 0.01129044,\n",
      "       0.01385327, 0.01359189, 0.01307974, 0.01321787, 0.01516868,\n",
      "       0.01552356, 0.01500505, 0.01307974, 0.01107794, 0.00815598])]\n",
      "[array([0.03368219, 0.03220953, 0.02900069, 0.02834192, 0.02864155,\n",
      "       0.02689688, 0.02825905, 0.02757691, 0.02363492, 0.02027095,\n",
      "       0.02455719, 0.02383254, 0.02326303, 0.02427668, 0.02624024,\n",
      "       0.01274399, 0.01048717, 0.0126016 , 0.01439515, 0.01408915,\n",
      "       0.01380439, 0.013407  , 0.01100568, 0.01430378, 0.01419965,\n",
      "       0.01650959, 0.01794613, 0.01899803, 0.01644159, 0.01625246,\n",
      "       0.01616321, 0.01479679, 0.01476066, 0.01239335, 0.01180045,\n",
      "       0.01280986, 0.01110769, 0.01241885, 0.01148382, 0.01081018,\n",
      "       0.00848749, 0.00627318, 0.00862986, 0.00746533, 0.00851086,\n",
      "       0.00875312, 0.01006003, 0.00805397, 0.00803697, 0.00891888,\n",
      "       0.01129044, 0.01385327, 0.01359189, 0.01307974, 0.01321787,\n",
      "       0.01516868, 0.01552356, 0.01500505, 0.01307974, 0.01107794]), array([0.03220953, 0.02900069, 0.02834192, 0.02864155, 0.02689688,\n",
      "       0.02825905, 0.02757691, 0.02363492, 0.02027095, 0.02455719,\n",
      "       0.02383254, 0.02326303, 0.02427668, 0.02624024, 0.01274399,\n",
      "       0.01048717, 0.0126016 , 0.01439515, 0.01408915, 0.01380439,\n",
      "       0.013407  , 0.01100568, 0.01430378, 0.01419965, 0.01650959,\n",
      "       0.01794613, 0.01899803, 0.01644159, 0.01625246, 0.01616321,\n",
      "       0.01479679, 0.01476066, 0.01239335, 0.01180045, 0.01280986,\n",
      "       0.01110769, 0.01241885, 0.01148382, 0.01081018, 0.00848749,\n",
      "       0.00627318, 0.00862986, 0.00746533, 0.00851086, 0.00875312,\n",
      "       0.01006003, 0.00805397, 0.00803697, 0.00891888, 0.01129044,\n",
      "       0.01385327, 0.01359189, 0.01307974, 0.01321787, 0.01516868,\n",
      "       0.01552356, 0.01500505, 0.01307974, 0.01107794, 0.00815598])]\n",
      "\n"
     ]
    }
   ],
   "source": [
    "#Changing to see 61st variable\n",
    "#Create the training dataset \n",
    "#create the scaled data set\n",
    "train_data = scaled_data[0:training_data_len , :]\n",
    "#Split the data into x_train and y_train data sets\n",
    "x_train = []\n",
    "y_train = []\n",
    "\n",
    "for i in range(60, len(train_data)):\n",
    "    x_train.append(train_data[i-60:i,0])\n",
    "    y_train.append(train_data[i,0])\n",
    "    if i<=61:\n",
    "        print(x_train)\n",
    "        print(x_train)\n",
    "        print()"
   ]
  },
  {
   "cell_type": "code",
   "execution_count": 27,
   "id": "1e2055bf",
   "metadata": {},
   "outputs": [],
   "source": [
    "#Conver the X_train and y_train to numpy arrays\n",
    "x_train, y_train = np.array(x_train), np.array(y_train)"
   ]
  },
  {
   "cell_type": "code",
   "execution_count": 29,
   "id": "016addba",
   "metadata": {},
   "outputs": [
    {
     "data": {
      "text/plain": [
       "(1896, 60, 1)"
      ]
     },
     "execution_count": 29,
     "metadata": {},
     "output_type": "execute_result"
    }
   ],
   "source": [
    "#Reshape the data\n",
    "x_train = np.reshape(x_train,(x_train.shape[0],x_train.shape[1],1))\n",
    "x_train.shape"
   ]
  },
  {
   "cell_type": "code",
   "execution_count": 34,
   "id": "5afbab0d",
   "metadata": {},
   "outputs": [],
   "source": [
    "#Build as LSTM model\n",
    "model = Sequential()\n",
    "model.add(LSTM(50, return_sequences=True, input_shape=(x_train.shape[1],1)))\n",
    "model.add(LSTM(50,return_sequences=False))\n",
    "model.add(Dense(25))\n",
    "model.add(Dense(1))"
   ]
  },
  {
   "cell_type": "code",
   "execution_count": 35,
   "id": "c380d0b4",
   "metadata": {},
   "outputs": [],
   "source": [
    "#Compile the model\n",
    "model.compile(optimizer='adam',loss='mean_squared_error')"
   ]
  },
  {
   "cell_type": "code",
   "execution_count": 37,
   "id": "393c74ca",
   "metadata": {},
   "outputs": [
    {
     "name": "stdout",
     "output_type": "stream",
     "text": [
      "1896/1896 [==============================] - 23s 12ms/step - loss: 2.4576e-04\n"
     ]
    },
    {
     "data": {
      "text/plain": [
       "<keras.callbacks.History at 0x20e0e00b400>"
      ]
     },
     "execution_count": 37,
     "metadata": {},
     "output_type": "execute_result"
    }
   ],
   "source": [
    "#trian the model\n",
    "model.fit(x_train, y_train, batch_size=1, epochs=1)"
   ]
  },
  {
   "cell_type": "code",
   "execution_count": 40,
   "id": "3aa9f36b",
   "metadata": {},
   "outputs": [],
   "source": [
    "#Create the testing data set\n",
    "#Create a new array contaning scaled values from index 1543 to 2003\n",
    "test_data = scaled_data[training_data_len - 60:,:]\n",
    "\n",
    "#Create the data sets x_train and y_train\n",
    "x_test = []\n",
    "y_test = dataset[training_data_len:,:]\n",
    "for i in range(60,len(test_data)):\n",
    "    x_test.append(test_data[i-60:i,0])\n",
    "    "
   ]
  },
  {
   "cell_type": "code",
   "execution_count": 41,
   "id": "edccda03",
   "metadata": {},
   "outputs": [],
   "source": [
    "#Convert the data into a numpy array\n",
    "x_test =  np.array(x_test)"
   ]
  },
  {
   "cell_type": "code",
   "execution_count": 45,
   "id": "77d756b5",
   "metadata": {},
   "outputs": [],
   "source": [
    "#Rehape the data\n",
    "x_test = np.reshape(x_test,(x_test.shape[0],x_test.shape[1],1))"
   ]
  },
  {
   "cell_type": "code",
   "execution_count": 47,
   "id": "3ecf3cd7",
   "metadata": {},
   "outputs": [
    {
     "name": "stdout",
     "output_type": "stream",
     "text": [
      "16/16 [==============================] - 0s 9ms/step\n"
     ]
    }
   ],
   "source": [
    "#get the models predicted price values\n",
    "predictions = model.predict(x_test)\n",
    "predictions = scaler.inverse_transform(predictions)"
   ]
  },
  {
   "cell_type": "code",
   "execution_count": 48,
   "id": "fd45a388",
   "metadata": {},
   "outputs": [
    {
     "data": {
      "text/plain": [
       "5.357252702147439"
      ]
     },
     "execution_count": 48,
     "metadata": {},
     "output_type": "execute_result"
    }
   ],
   "source": [
    "#Get the rmse error(RMSE)\n",
    "rmse = np.sqrt(np.mean(predictions-y_test)**2)\n",
    "rmse"
   ]
  },
  {
   "cell_type": "code",
   "execution_count": 54,
   "id": "c5c5b1b7",
   "metadata": {},
   "outputs": [
    {
     "name": "stderr",
     "output_type": "stream",
     "text": [
      "C:\\Users\\josh1\\AppData\\Local\\Temp/ipykernel_28100/2721521436.py:4: SettingWithCopyWarning: \n",
      "A value is trying to be set on a copy of a slice from a DataFrame.\n",
      "Try using .loc[row_indexer,col_indexer] = value instead\n",
      "\n",
      "See the caveats in the documentation: https://pandas.pydata.org/pandas-docs/stable/user_guide/indexing.html#returning-a-view-versus-a-copy\n",
      "  valid['Predictions']= predictions\n"
     ]
    },
    {
     "data": {
      "image/png": "[encoded data removed]",
      "text/plain": [
       "<Figure size 1152x576 with 1 Axes>"
      ]
     },
     "metadata": {},
     "output_type": "display_data"
    }
   ],
   "source": [
    "#Plot the data\n",
    "train = data[:training_data_len]\n",
    "valid = data[training_data_len:]\n",
    "valid['Predictions']= predictions\n",
    "#Visulaize the data\n",
    "plt.figure(figsize=(16,8))\n",
    "plt.title('Model')\n",
    "plt.xlabel('Date',fontsize = 18)\n",
    "plt.ylabel('Close Price USD ($)', fontsize = 18)\n",
    "plt.plot(train['Close'])\n",
    "plt.plot(valid[['Close', 'Predictions']])\n",
    "plt.legend(['Train','Val','Predictions'], loc = 'lower right')\n",
    "plt.show()"
   ]
  },
  {
   "cell_type": "code",
   "execution_count": 55,
   "id": "bdf6ea66",
   "metadata": {},
   "outputs": [
    {
     "data": {
      "text/html": [
       "<div>\n",
       "<style scoped>\n",
       "    .dataframe tbody tr th:only-of-type {\n",
       "        vertical-align: middle;\n",
       "    }\n",
       "\n",
       "    .dataframe tbody tr th {\n",
       "        vertical-align: top;\n",
       "    }\n",
       "\n",
       "    .dataframe thead th {\n",
       "        text-align: right;\n",
       "    }\n",
       "</style>\n",
       "<table border=\"1\" class=\"dataframe\">\n",
       "  <thead>\n",
       "    <tr style=\"text-align: right;\">\n",
       "      <th></th>\n",
       "      <th>Close</th>\n",
       "      <th>Predictions</th>\n",
       "    </tr>\n",
       "    <tr>\n",
       "      <th>Date</th>\n",
       "      <th></th>\n",
       "      <th></th>\n",
       "    </tr>\n",
       "  </thead>\n",
       "  <tbody>\n",
       "    <tr>\n",
       "      <th>2020-10-08</th>\n",
       "      <td>114.970001</td>\n",
       "      <td>119.950996</td>\n",
       "    </tr>\n",
       "    <tr>\n",
       "      <th>2020-10-09</th>\n",
       "      <td>116.970001</td>\n",
       "      <td>119.871223</td>\n",
       "    </tr>\n",
       "    <tr>\n",
       "      <th>2020-10-12</th>\n",
       "      <td>124.400002</td>\n",
       "      <td>120.312622</td>\n",
       "    </tr>\n",
       "    <tr>\n",
       "      <th>2020-10-13</th>\n",
       "      <td>121.099998</td>\n",
       "      <td>122.612846</td>\n",
       "    </tr>\n",
       "    <tr>\n",
       "      <th>2020-10-14</th>\n",
       "      <td>121.190002</td>\n",
       "      <td>124.302864</td>\n",
       "    </tr>\n",
       "    <tr>\n",
       "      <th>...</th>\n",
       "      <td>...</td>\n",
       "      <td>...</td>\n",
       "    </tr>\n",
       "    <tr>\n",
       "      <th>2022-09-12</th>\n",
       "      <td>163.429993</td>\n",
       "      <td>161.522903</td>\n",
       "    </tr>\n",
       "    <tr>\n",
       "      <th>2022-09-13</th>\n",
       "      <td>153.839996</td>\n",
       "      <td>163.628601</td>\n",
       "    </tr>\n",
       "    <tr>\n",
       "      <th>2022-09-14</th>\n",
       "      <td>155.309998</td>\n",
       "      <td>163.476685</td>\n",
       "    </tr>\n",
       "    <tr>\n",
       "      <th>2022-09-15</th>\n",
       "      <td>152.369995</td>\n",
       "      <td>162.983856</td>\n",
       "    </tr>\n",
       "    <tr>\n",
       "      <th>2022-09-16</th>\n",
       "      <td>150.699997</td>\n",
       "      <td>161.701569</td>\n",
       "    </tr>\n",
       "  </tbody>\n",
       "</table>\n",
       "<p>489 rows × 2 columns</p>\n",
       "</div>"
      ],
      "text/plain": [
       "                 Close  Predictions\n",
       "Date                               \n",
       "2020-10-08  114.970001   119.950996\n",
       "2020-10-09  116.970001   119.871223\n",
       "2020-10-12  124.400002   120.312622\n",
       "2020-10-13  121.099998   122.612846\n",
       "2020-10-14  121.190002   124.302864\n",
       "...                ...          ...\n",
       "2022-09-12  163.429993   161.522903\n",
       "2022-09-13  153.839996   163.628601\n",
       "2022-09-14  155.309998   163.476685\n",
       "2022-09-15  152.369995   162.983856\n",
       "2022-09-16  150.699997   161.701569\n",
       "\n",
       "[489 rows x 2 columns]"
      ]
     },
     "execution_count": 55,
     "metadata": {},
     "output_type": "execute_result"
    }
   ],
   "source": [
    "#Show the valid and predicted prices\n",
    "valid"
   ]
  },
  {
   "cell_type": "code",
   "execution_count": 63,
   "id": "83a15129",
   "metadata": {},
   "outputs": [
    {
     "name": "stdout",
     "output_type": "stream",
     "text": [
      "1/1 [==============================] - 0s 15ms/step\n",
      "[[70.73147]]\n"
     ]
    }
   ],
   "source": [
    "apple_quote = web.DataReader('AAPL' ,data_source='yahoo',  start = '2012-01-01', end ='2019-12-17')\n",
    "#Create a new data frame\n",
    "new_df = apple_quote.filter(['Close'])\n",
    "#Get the last 60 day closing price values and convert the data frame to an array\n",
    "last_60_days = new_df[-60:].values\n",
    "#Scale the data to be values between 0 an 1\n",
    "last_60_days_scaled = scaler.transform(last_60_days)\n",
    "#Create an empty list\n",
    "X_test = []\n",
    "#Append the past 60 days to the X_test list\n",
    "X_test.append(last_60_days_scaled)\n",
    "#Conver the X_test data set to a numpy array\n",
    "X_test = np.array(X_test)\n",
    "X_test = np.reshape(X_test,(X_test.shape[0],X_test.shape[1],1))\n",
    "#Get the predicted price\n",
    "pred_price = model.predict(X_test)\n",
    "#Undo the scaling\n",
    "pred_price = scaler.inverse_transform(pred_price)\n",
    "print(pred_price)"
   ]
  },
  {
   "cell_type": "code",
   "execution_count": 62,
   "id": "7f535ad8",
   "metadata": {},
   "outputs": [
    {
     "data": {
      "text/html": [
       "<div>\n",
       "<style scoped>\n",
       "    .dataframe tbody tr th:only-of-type {\n",
       "        vertical-align: middle;\n",
       "    }\n",
       "\n",
       "    .dataframe tbody tr th {\n",
       "        vertical-align: top;\n",
       "    }\n",
       "\n",
       "    .dataframe thead th {\n",
       "        text-align: right;\n",
       "    }\n",
       "</style>\n",
       "<table border=\"1\" class=\"dataframe\">\n",
       "  <thead>\n",
       "    <tr style=\"text-align: right;\">\n",
       "      <th></th>\n",
       "      <th>High</th>\n",
       "      <th>Low</th>\n",
       "      <th>Open</th>\n",
       "      <th>Close</th>\n",
       "      <th>Volume</th>\n",
       "      <th>Adj Close</th>\n",
       "    </tr>\n",
       "    <tr>\n",
       "      <th>Date</th>\n",
       "      <th></th>\n",
       "      <th></th>\n",
       "      <th></th>\n",
       "      <th></th>\n",
       "      <th></th>\n",
       "      <th></th>\n",
       "    </tr>\n",
       "  </thead>\n",
       "  <tbody>\n",
       "    <tr>\n",
       "      <th>2019-12-18</th>\n",
       "      <td>70.474998</td>\n",
       "      <td>69.779999</td>\n",
       "      <td>69.949997</td>\n",
       "      <td>69.934998</td>\n",
       "      <td>116028400</td>\n",
       "      <td>68.627411</td>\n",
       "    </tr>\n",
       "  </tbody>\n",
       "</table>\n",
       "</div>"
      ],
      "text/plain": [
       "                 High        Low       Open      Close     Volume  Adj Close\n",
       "Date                                                                        \n",
       "2019-12-18  70.474998  69.779999  69.949997  69.934998  116028400  68.627411"
      ]
     },
     "execution_count": 62,
     "metadata": {},
     "output_type": "execute_result"
    }
   ],
   "source": [
    "apple_quote2 = web.DataReader('AAPL' ,data_source='yahoo',  start = '2019-12-18', end ='2019-12-18')\n",
    "apple_quote2"
   ]
  },
  {
   "cell_type": "code",
   "execution_count": 64,
   "id": "87d8ee32",
   "metadata": {},
   "outputs": [
    {
     "name": "stdout",
     "output_type": "stream",
     "text": [
      "Date\n",
      "2019-12-18    69.934998\n",
      "Name: Close, dtype: float64\n"
     ]
    }
   ],
   "source": [
    "print(apple_quote2['Close'])"
   ]
  }
 ],
 "metadata": {
  "kernelspec": {
   "display_name": "Python 3 (ipykernel)",
   "language": "python",
   "name": "python3"
  },
  "language_info": {
   "codemirror_mode": {
    "name": "ipython",
    "version": 3
   },
   "file_extension": ".py",
   "mimetype": "text/x-python",
   "name": "python",
   "nbconvert_exporter": "python",
   "pygments_lexer": "ipython3",
   "version": "3.9.7"
  }
 },
 "nbformat": 4,
 "nbformat_minor": 5
}
